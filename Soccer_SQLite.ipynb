{
 "cells": [
  {
   "cell_type": "code",
   "execution_count": 59,
   "metadata": {},
   "outputs": [
    {
     "data": {
      "text/plain": [
       "array(['sqlite_sequence', 'Player_Attributes', 'Player', 'Match',\n",
       "       'League', 'Country', 'Team', 'Team_Attributes'], dtype=object)"
      ]
     },
     "execution_count": 59,
     "metadata": {},
     "output_type": "execute_result"
    }
   ],
   "source": [
    "import pandas as pd\n",
    "import sqlite3\n",
    "\n",
    "conn = sqlite3.connect('database.sqlite')\n",
    "\n",
    "query = \"SELECT * FROM sqlite_master\"\n",
    "\n",
    "df_schema = pd.read_sql_query(query, conn)\n",
    "\n",
    "df_schema.tbl_name.unique()"
   ]
  },
  {
   "cell_type": "code",
   "execution_count": 60,
   "metadata": {},
   "outputs": [
    {
     "data": {
      "text/html": [
       "<div>\n",
       "<style scoped>\n",
       "    .dataframe tbody tr th:only-of-type {\n",
       "        vertical-align: middle;\n",
       "    }\n",
       "\n",
       "    .dataframe tbody tr th {\n",
       "        vertical-align: top;\n",
       "    }\n",
       "\n",
       "    .dataframe thead th {\n",
       "        text-align: right;\n",
       "    }\n",
       "</style>\n",
       "<table border=\"1\" class=\"dataframe\">\n",
       "  <thead>\n",
       "    <tr style=\"text-align: right;\">\n",
       "      <th></th>\n",
       "      <th>type</th>\n",
       "      <th>name</th>\n",
       "      <th>tbl_name</th>\n",
       "      <th>rootpage</th>\n",
       "      <th>sql</th>\n",
       "    </tr>\n",
       "  </thead>\n",
       "  <tbody>\n",
       "    <tr>\n",
       "      <th>0</th>\n",
       "      <td>table</td>\n",
       "      <td>sqlite_sequence</td>\n",
       "      <td>sqlite_sequence</td>\n",
       "      <td>4</td>\n",
       "      <td>CREATE TABLE sqlite_sequence(name,seq)</td>\n",
       "    </tr>\n",
       "    <tr>\n",
       "      <th>1</th>\n",
       "      <td>table</td>\n",
       "      <td>Player_Attributes</td>\n",
       "      <td>Player_Attributes</td>\n",
       "      <td>11</td>\n",
       "      <td>CREATE TABLE \"Player_Attributes\" (\\n\\t`id`\\tIN...</td>\n",
       "    </tr>\n",
       "    <tr>\n",
       "      <th>2</th>\n",
       "      <td>table</td>\n",
       "      <td>Player</td>\n",
       "      <td>Player</td>\n",
       "      <td>14</td>\n",
       "      <td>CREATE TABLE `Player` (\\n\\t`id`\\tINTEGER PRIMA...</td>\n",
       "    </tr>\n",
       "    <tr>\n",
       "      <th>3</th>\n",
       "      <td>index</td>\n",
       "      <td>sqlite_autoindex_Player_1</td>\n",
       "      <td>Player</td>\n",
       "      <td>15</td>\n",
       "      <td>None</td>\n",
       "    </tr>\n",
       "    <tr>\n",
       "      <th>4</th>\n",
       "      <td>index</td>\n",
       "      <td>sqlite_autoindex_Player_2</td>\n",
       "      <td>Player</td>\n",
       "      <td>17</td>\n",
       "      <td>None</td>\n",
       "    </tr>\n",
       "    <tr>\n",
       "      <th>5</th>\n",
       "      <td>table</td>\n",
       "      <td>Match</td>\n",
       "      <td>Match</td>\n",
       "      <td>18</td>\n",
       "      <td>CREATE TABLE `Match` (\\n\\t`id`\\tINTEGER PRIMAR...</td>\n",
       "    </tr>\n",
       "    <tr>\n",
       "      <th>6</th>\n",
       "      <td>index</td>\n",
       "      <td>sqlite_autoindex_Match_1</td>\n",
       "      <td>Match</td>\n",
       "      <td>19</td>\n",
       "      <td>None</td>\n",
       "    </tr>\n",
       "    <tr>\n",
       "      <th>7</th>\n",
       "      <td>table</td>\n",
       "      <td>League</td>\n",
       "      <td>League</td>\n",
       "      <td>24</td>\n",
       "      <td>CREATE TABLE `League` (\\n\\t`id`\\tINTEGER PRIMA...</td>\n",
       "    </tr>\n",
       "    <tr>\n",
       "      <th>8</th>\n",
       "      <td>index</td>\n",
       "      <td>sqlite_autoindex_League_1</td>\n",
       "      <td>League</td>\n",
       "      <td>25</td>\n",
       "      <td>None</td>\n",
       "    </tr>\n",
       "    <tr>\n",
       "      <th>9</th>\n",
       "      <td>table</td>\n",
       "      <td>Country</td>\n",
       "      <td>Country</td>\n",
       "      <td>26</td>\n",
       "      <td>CREATE TABLE `Country` (\\n\\t`id`\\tINTEGER PRIM...</td>\n",
       "    </tr>\n",
       "    <tr>\n",
       "      <th>10</th>\n",
       "      <td>index</td>\n",
       "      <td>sqlite_autoindex_Country_1</td>\n",
       "      <td>Country</td>\n",
       "      <td>28</td>\n",
       "      <td>None</td>\n",
       "    </tr>\n",
       "    <tr>\n",
       "      <th>11</th>\n",
       "      <td>table</td>\n",
       "      <td>Team</td>\n",
       "      <td>Team</td>\n",
       "      <td>29</td>\n",
       "      <td>CREATE TABLE \"Team\" (\\n\\t`id`\\tINTEGER PRIMARY...</td>\n",
       "    </tr>\n",
       "    <tr>\n",
       "      <th>12</th>\n",
       "      <td>index</td>\n",
       "      <td>sqlite_autoindex_Team_1</td>\n",
       "      <td>Team</td>\n",
       "      <td>30</td>\n",
       "      <td>None</td>\n",
       "    </tr>\n",
       "    <tr>\n",
       "      <th>13</th>\n",
       "      <td>table</td>\n",
       "      <td>Team_Attributes</td>\n",
       "      <td>Team_Attributes</td>\n",
       "      <td>2</td>\n",
       "      <td>CREATE TABLE `Team_Attributes` (\\n\\t`id`\\tINTE...</td>\n",
       "    </tr>\n",
       "  </tbody>\n",
       "</table>\n",
       "</div>"
      ],
      "text/plain": [
       "     type                        name           tbl_name  rootpage  \\\n",
       "0   table             sqlite_sequence    sqlite_sequence         4   \n",
       "1   table           Player_Attributes  Player_Attributes        11   \n",
       "2   table                      Player             Player        14   \n",
       "3   index   sqlite_autoindex_Player_1             Player        15   \n",
       "4   index   sqlite_autoindex_Player_2             Player        17   \n",
       "5   table                       Match              Match        18   \n",
       "6   index    sqlite_autoindex_Match_1              Match        19   \n",
       "7   table                      League             League        24   \n",
       "8   index   sqlite_autoindex_League_1             League        25   \n",
       "9   table                     Country            Country        26   \n",
       "10  index  sqlite_autoindex_Country_1            Country        28   \n",
       "11  table                        Team               Team        29   \n",
       "12  index     sqlite_autoindex_Team_1               Team        30   \n",
       "13  table             Team_Attributes    Team_Attributes         2   \n",
       "\n",
       "                                                  sql  \n",
       "0              CREATE TABLE sqlite_sequence(name,seq)  \n",
       "1   CREATE TABLE \"Player_Attributes\" (\\n\\t`id`\\tIN...  \n",
       "2   CREATE TABLE `Player` (\\n\\t`id`\\tINTEGER PRIMA...  \n",
       "3                                                None  \n",
       "4                                                None  \n",
       "5   CREATE TABLE `Match` (\\n\\t`id`\\tINTEGER PRIMAR...  \n",
       "6                                                None  \n",
       "7   CREATE TABLE `League` (\\n\\t`id`\\tINTEGER PRIMA...  \n",
       "8                                                None  \n",
       "9   CREATE TABLE `Country` (\\n\\t`id`\\tINTEGER PRIM...  \n",
       "10                                               None  \n",
       "11  CREATE TABLE \"Team\" (\\n\\t`id`\\tINTEGER PRIMARY...  \n",
       "12                                               None  \n",
       "13  CREATE TABLE `Team_Attributes` (\\n\\t`id`\\tINTE...  "
      ]
     },
     "execution_count": 60,
     "metadata": {},
     "output_type": "execute_result"
    }
   ],
   "source": [
    "df_schema.head(20)"
   ]
  },
  {
   "cell_type": "code",
   "execution_count": 61,
   "metadata": {},
   "outputs": [
    {
     "name": "stdout",
     "output_type": "stream",
     "text": [
      "(0, 'id', 'INTEGER', 0, None, 1)\n",
      "(1, 'player_fifa_api_id', 'INTEGER', 0, None, 0)\n",
      "(2, 'player_api_id', 'INTEGER', 0, None, 0)\n",
      "(3, 'date', 'TEXT', 0, None, 0)\n",
      "(4, 'overall_rating', 'INTEGER', 0, None, 0)\n",
      "(5, 'potential', 'INTEGER', 0, None, 0)\n",
      "(6, 'preferred_foot', 'TEXT', 0, None, 0)\n",
      "(7, 'attacking_work_rate', 'TEXT', 0, None, 0)\n",
      "(8, 'defensive_work_rate', 'TEXT', 0, None, 0)\n",
      "(9, 'crossing', 'INTEGER', 0, None, 0)\n",
      "(10, 'finishing', 'INTEGER', 0, None, 0)\n",
      "(11, 'heading_accuracy', 'INTEGER', 0, None, 0)\n",
      "(12, 'short_passing', 'INTEGER', 0, None, 0)\n",
      "(13, 'volleys', 'INTEGER', 0, None, 0)\n",
      "(14, 'dribbling', 'INTEGER', 0, None, 0)\n",
      "(15, 'curve', 'INTEGER', 0, None, 0)\n",
      "(16, 'free_kick_accuracy', 'INTEGER', 0, None, 0)\n",
      "(17, 'long_passing', 'INTEGER', 0, None, 0)\n",
      "(18, 'ball_control', 'INTEGER', 0, None, 0)\n",
      "(19, 'acceleration', 'INTEGER', 0, None, 0)\n",
      "(20, 'sprint_speed', 'INTEGER', 0, None, 0)\n",
      "(21, 'agility', 'INTEGER', 0, None, 0)\n",
      "(22, 'reactions', 'INTEGER', 0, None, 0)\n",
      "(23, 'balance', 'INTEGER', 0, None, 0)\n",
      "(24, 'shot_power', 'INTEGER', 0, None, 0)\n",
      "(25, 'jumping', 'INTEGER', 0, None, 0)\n",
      "(26, 'stamina', 'INTEGER', 0, None, 0)\n",
      "(27, 'strength', 'INTEGER', 0, None, 0)\n",
      "(28, 'long_shots', 'INTEGER', 0, None, 0)\n",
      "(29, 'aggression', 'INTEGER', 0, None, 0)\n",
      "(30, 'interceptions', 'INTEGER', 0, None, 0)\n",
      "(31, 'positioning', 'INTEGER', 0, None, 0)\n",
      "(32, 'vision', 'INTEGER', 0, None, 0)\n",
      "(33, 'penalties', 'INTEGER', 0, None, 0)\n",
      "(34, 'marking', 'INTEGER', 0, None, 0)\n",
      "(35, 'standing_tackle', 'INTEGER', 0, None, 0)\n",
      "(36, 'sliding_tackle', 'INTEGER', 0, None, 0)\n",
      "(37, 'gk_diving', 'INTEGER', 0, None, 0)\n",
      "(38, 'gk_handling', 'INTEGER', 0, None, 0)\n",
      "(39, 'gk_kicking', 'INTEGER', 0, None, 0)\n",
      "(40, 'gk_positioning', 'INTEGER', 0, None, 0)\n",
      "(41, 'gk_reflexes', 'INTEGER', 0, None, 0)\n"
     ]
    }
   ],
   "source": [
    "cur = conn.cursor()\n",
    "cur.execute('''SELECT * from pragma_table_info(\"Player_Attributes\")''' )\n",
    "rows = cur.fetchall()\n",
    "    \n",
    "for row in rows[:]:\n",
    "        print(row)"
   ]
  },
  {
   "cell_type": "code",
   "execution_count": 62,
   "metadata": {},
   "outputs": [],
   "source": [
    "#df_schema.to_csv(\"soccer_schema.csv\")"
   ]
  },
  {
   "cell_type": "code",
   "execution_count": 63,
   "metadata": {},
   "outputs": [
    {
     "name": "stdout",
     "output_type": "stream",
     "text": [
      "(0, 'id', 'INTEGER', 0, None, 1)\n",
      "(1, 'player_api_id', 'INTEGER', 0, None, 0)\n",
      "(2, 'player_name', 'TEXT', 0, None, 0)\n",
      "(3, 'player_fifa_api_id', 'INTEGER', 0, None, 0)\n",
      "(4, 'birthday', 'TEXT', 0, None, 0)\n",
      "(5, 'height', 'INTEGER', 0, None, 0)\n",
      "(6, 'weight', 'INTEGER', 0, None, 0)\n"
     ]
    }
   ],
   "source": [
    "cur = conn.cursor()\n",
    "cur.execute('''SELECT * from pragma_table_info(\"Player\")''' )\n",
    "rows = cur.fetchall()\n",
    "    \n",
    "for row in rows[:]:\n",
    "        print(row)"
   ]
  },
  {
   "cell_type": "code",
   "execution_count": 64,
   "metadata": {},
   "outputs": [
    {
     "name": "stdout",
     "output_type": "stream",
     "text": [
      "(0, 'id', 'INTEGER', 0, None, 1)\n",
      "(1, 'country_id', 'INTEGER', 0, None, 0)\n",
      "(2, 'league_id', 'INTEGER', 0, None, 0)\n",
      "(3, 'season', 'TEXT', 0, None, 0)\n",
      "(4, 'stage', 'INTEGER', 0, None, 0)\n",
      "(5, 'date', 'TEXT', 0, None, 0)\n",
      "(6, 'match_api_id', 'INTEGER', 0, None, 0)\n",
      "(7, 'home_team_api_id', 'INTEGER', 0, None, 0)\n",
      "(8, 'away_team_api_id', 'INTEGER', 0, None, 0)\n",
      "(9, 'home_team_goal', 'INTEGER', 0, None, 0)\n",
      "(10, 'away_team_goal', 'INTEGER', 0, None, 0)\n",
      "(11, 'home_player_X1', 'INTEGER', 0, None, 0)\n",
      "(12, 'home_player_X2', 'INTEGER', 0, None, 0)\n",
      "(13, 'home_player_X3', 'INTEGER', 0, None, 0)\n",
      "(14, 'home_player_X4', 'INTEGER', 0, None, 0)\n",
      "(15, 'home_player_X5', 'INTEGER', 0, None, 0)\n",
      "(16, 'home_player_X6', 'INTEGER', 0, None, 0)\n",
      "(17, 'home_player_X7', 'INTEGER', 0, None, 0)\n",
      "(18, 'home_player_X8', 'INTEGER', 0, None, 0)\n",
      "(19, 'home_player_X9', 'INTEGER', 0, None, 0)\n",
      "(20, 'home_player_X10', 'INTEGER', 0, None, 0)\n",
      "(21, 'home_player_X11', 'INTEGER', 0, None, 0)\n",
      "(22, 'away_player_X1', 'INTEGER', 0, None, 0)\n",
      "(23, 'away_player_X2', 'INTEGER', 0, None, 0)\n",
      "(24, 'away_player_X3', 'INTEGER', 0, None, 0)\n",
      "(25, 'away_player_X4', 'INTEGER', 0, None, 0)\n",
      "(26, 'away_player_X5', 'INTEGER', 0, None, 0)\n",
      "(27, 'away_player_X6', 'INTEGER', 0, None, 0)\n",
      "(28, 'away_player_X7', 'INTEGER', 0, None, 0)\n",
      "(29, 'away_player_X8', 'INTEGER', 0, None, 0)\n",
      "(30, 'away_player_X9', 'INTEGER', 0, None, 0)\n",
      "(31, 'away_player_X10', 'INTEGER', 0, None, 0)\n",
      "(32, 'away_player_X11', 'INTEGER', 0, None, 0)\n",
      "(33, 'home_player_Y1', 'INTEGER', 0, None, 0)\n",
      "(34, 'home_player_Y2', 'INTEGER', 0, None, 0)\n",
      "(35, 'home_player_Y3', 'INTEGER', 0, None, 0)\n",
      "(36, 'home_player_Y4', 'INTEGER', 0, None, 0)\n",
      "(37, 'home_player_Y5', 'INTEGER', 0, None, 0)\n",
      "(38, 'home_player_Y6', 'INTEGER', 0, None, 0)\n",
      "(39, 'home_player_Y7', 'INTEGER', 0, None, 0)\n",
      "(40, 'home_player_Y8', 'INTEGER', 0, None, 0)\n",
      "(41, 'home_player_Y9', 'INTEGER', 0, None, 0)\n",
      "(42, 'home_player_Y10', 'INTEGER', 0, None, 0)\n",
      "(43, 'home_player_Y11', 'INTEGER', 0, None, 0)\n",
      "(44, 'away_player_Y1', 'INTEGER', 0, None, 0)\n",
      "(45, 'away_player_Y2', 'INTEGER', 0, None, 0)\n",
      "(46, 'away_player_Y3', 'INTEGER', 0, None, 0)\n",
      "(47, 'away_player_Y4', 'INTEGER', 0, None, 0)\n",
      "(48, 'away_player_Y5', 'INTEGER', 0, None, 0)\n",
      "(49, 'away_player_Y6', 'INTEGER', 0, None, 0)\n",
      "(50, 'away_player_Y7', 'INTEGER', 0, None, 0)\n",
      "(51, 'away_player_Y8', 'INTEGER', 0, None, 0)\n",
      "(52, 'away_player_Y9', 'INTEGER', 0, None, 0)\n",
      "(53, 'away_player_Y10', 'INTEGER', 0, None, 0)\n",
      "(54, 'away_player_Y11', 'INTEGER', 0, None, 0)\n",
      "(55, 'home_player_1', 'INTEGER', 0, None, 0)\n",
      "(56, 'home_player_2', 'INTEGER', 0, None, 0)\n",
      "(57, 'home_player_3', 'INTEGER', 0, None, 0)\n",
      "(58, 'home_player_4', 'INTEGER', 0, None, 0)\n",
      "(59, 'home_player_5', 'INTEGER', 0, None, 0)\n",
      "(60, 'home_player_6', 'INTEGER', 0, None, 0)\n",
      "(61, 'home_player_7', 'INTEGER', 0, None, 0)\n",
      "(62, 'home_player_8', 'INTEGER', 0, None, 0)\n",
      "(63, 'home_player_9', 'INTEGER', 0, None, 0)\n",
      "(64, 'home_player_10', 'INTEGER', 0, None, 0)\n",
      "(65, 'home_player_11', 'INTEGER', 0, None, 0)\n",
      "(66, 'away_player_1', 'INTEGER', 0, None, 0)\n",
      "(67, 'away_player_2', 'INTEGER', 0, None, 0)\n",
      "(68, 'away_player_3', 'INTEGER', 0, None, 0)\n",
      "(69, 'away_player_4', 'INTEGER', 0, None, 0)\n",
      "(70, 'away_player_5', 'INTEGER', 0, None, 0)\n",
      "(71, 'away_player_6', 'INTEGER', 0, None, 0)\n",
      "(72, 'away_player_7', 'INTEGER', 0, None, 0)\n",
      "(73, 'away_player_8', 'INTEGER', 0, None, 0)\n",
      "(74, 'away_player_9', 'INTEGER', 0, None, 0)\n",
      "(75, 'away_player_10', 'INTEGER', 0, None, 0)\n",
      "(76, 'away_player_11', 'INTEGER', 0, None, 0)\n",
      "(77, 'goal', 'TEXT', 0, None, 0)\n",
      "(78, 'shoton', 'TEXT', 0, None, 0)\n",
      "(79, 'shotoff', 'TEXT', 0, None, 0)\n",
      "(80, 'foulcommit', 'TEXT', 0, None, 0)\n",
      "(81, 'card', 'TEXT', 0, None, 0)\n",
      "(82, 'cross', 'TEXT', 0, None, 0)\n",
      "(83, 'corner', 'TEXT', 0, None, 0)\n",
      "(84, 'possession', 'TEXT', 0, None, 0)\n",
      "(85, 'B365H', 'NUMERIC', 0, None, 0)\n",
      "(86, 'B365D', 'NUMERIC', 0, None, 0)\n",
      "(87, 'B365A', 'NUMERIC', 0, None, 0)\n",
      "(88, 'BWH', 'NUMERIC', 0, None, 0)\n",
      "(89, 'BWD', 'NUMERIC', 0, None, 0)\n",
      "(90, 'BWA', 'NUMERIC', 0, None, 0)\n",
      "(91, 'IWH', 'NUMERIC', 0, None, 0)\n",
      "(92, 'IWD', 'NUMERIC', 0, None, 0)\n",
      "(93, 'IWA', 'NUMERIC', 0, None, 0)\n",
      "(94, 'LBH', 'NUMERIC', 0, None, 0)\n",
      "(95, 'LBD', 'NUMERIC', 0, None, 0)\n",
      "(96, 'LBA', 'NUMERIC', 0, None, 0)\n",
      "(97, 'PSH', 'NUMERIC', 0, None, 0)\n",
      "(98, 'PSD', 'NUMERIC', 0, None, 0)\n",
      "(99, 'PSA', 'NUMERIC', 0, None, 0)\n",
      "(100, 'WHH', 'NUMERIC', 0, None, 0)\n",
      "(101, 'WHD', 'NUMERIC', 0, None, 0)\n",
      "(102, 'WHA', 'NUMERIC', 0, None, 0)\n",
      "(103, 'SJH', 'NUMERIC', 0, None, 0)\n",
      "(104, 'SJD', 'NUMERIC', 0, None, 0)\n",
      "(105, 'SJA', 'NUMERIC', 0, None, 0)\n",
      "(106, 'VCH', 'NUMERIC', 0, None, 0)\n",
      "(107, 'VCD', 'NUMERIC', 0, None, 0)\n",
      "(108, 'VCA', 'NUMERIC', 0, None, 0)\n",
      "(109, 'GBH', 'NUMERIC', 0, None, 0)\n",
      "(110, 'GBD', 'NUMERIC', 0, None, 0)\n",
      "(111, 'GBA', 'NUMERIC', 0, None, 0)\n",
      "(112, 'BSH', 'NUMERIC', 0, None, 0)\n",
      "(113, 'BSD', 'NUMERIC', 0, None, 0)\n",
      "(114, 'BSA', 'NUMERIC', 0, None, 0)\n"
     ]
    }
   ],
   "source": [
    "cur = conn.cursor()\n",
    "cur.execute('''SELECT * from pragma_table_info(\"Match\")''' )\n",
    "rows = cur.fetchall()\n",
    "    \n",
    "for row in rows[:]:\n",
    "        print(row)"
   ]
  },
  {
   "cell_type": "code",
   "execution_count": 65,
   "metadata": {},
   "outputs": [
    {
     "name": "stdout",
     "output_type": "stream",
     "text": [
      "(0, 'id', 'INTEGER', 0, None, 1)\n",
      "(1, 'country_id', 'INTEGER', 0, None, 0)\n",
      "(2, 'name', 'TEXT', 0, None, 0)\n"
     ]
    }
   ],
   "source": [
    "cur = conn.cursor()\n",
    "cur.execute('''SELECT * from pragma_table_info(\"League\")''' )\n",
    "rows = cur.fetchall()\n",
    "    \n",
    "for row in rows[:]:\n",
    "        print(row)"
   ]
  },
  {
   "cell_type": "code",
   "execution_count": 66,
   "metadata": {},
   "outputs": [
    {
     "name": "stdout",
     "output_type": "stream",
     "text": [
      "(0, 'id', 'INTEGER', 0, None, 1)\n",
      "(1, 'name', 'TEXT', 0, None, 0)\n"
     ]
    }
   ],
   "source": [
    "cur = conn.cursor()\n",
    "cur.execute('''SELECT * from pragma_table_info(\"Country\")''' )\n",
    "rows = cur.fetchall()\n",
    "    \n",
    "for row in rows[:]:\n",
    "        print(row)"
   ]
  },
  {
   "cell_type": "code",
   "execution_count": 67,
   "metadata": {},
   "outputs": [
    {
     "name": "stdout",
     "output_type": "stream",
     "text": [
      "(0, 'id', 'INTEGER', 0, None, 1)\n",
      "(1, 'team_api_id', 'INTEGER', 0, None, 0)\n",
      "(2, 'team_fifa_api_id', 'INTEGER', 0, None, 0)\n",
      "(3, 'team_long_name', 'TEXT', 0, None, 0)\n",
      "(4, 'team_short_name', 'TEXT', 0, None, 0)\n"
     ]
    }
   ],
   "source": [
    "cur = conn.cursor()\n",
    "cur.execute('''SELECT * from pragma_table_info(\"Team\")''' )\n",
    "rows = cur.fetchall()\n",
    "    \n",
    "for row in rows[:]:\n",
    "        print(row)"
   ]
  },
  {
   "cell_type": "code",
   "execution_count": 68,
   "metadata": {},
   "outputs": [
    {
     "name": "stdout",
     "output_type": "stream",
     "text": [
      "(0, 'id', 'INTEGER', 0, None, 1)\n",
      "(1, 'team_fifa_api_id', 'INTEGER', 0, None, 0)\n",
      "(2, 'team_api_id', 'INTEGER', 0, None, 0)\n",
      "(3, 'date', 'TEXT', 0, None, 0)\n",
      "(4, 'buildUpPlaySpeed', 'INTEGER', 0, None, 0)\n",
      "(5, 'buildUpPlaySpeedClass', 'TEXT', 0, None, 0)\n",
      "(6, 'buildUpPlayDribbling', 'INTEGER', 0, None, 0)\n",
      "(7, 'buildUpPlayDribblingClass', 'TEXT', 0, None, 0)\n",
      "(8, 'buildUpPlayPassing', 'INTEGER', 0, None, 0)\n",
      "(9, 'buildUpPlayPassingClass', 'TEXT', 0, None, 0)\n",
      "(10, 'buildUpPlayPositioningClass', 'TEXT', 0, None, 0)\n",
      "(11, 'chanceCreationPassing', 'INTEGER', 0, None, 0)\n",
      "(12, 'chanceCreationPassingClass', 'TEXT', 0, None, 0)\n",
      "(13, 'chanceCreationCrossing', 'INTEGER', 0, None, 0)\n",
      "(14, 'chanceCreationCrossingClass', 'TEXT', 0, None, 0)\n",
      "(15, 'chanceCreationShooting', 'INTEGER', 0, None, 0)\n",
      "(16, 'chanceCreationShootingClass', 'TEXT', 0, None, 0)\n",
      "(17, 'chanceCreationPositioningClass', 'TEXT', 0, None, 0)\n",
      "(18, 'defencePressure', 'INTEGER', 0, None, 0)\n",
      "(19, 'defencePressureClass', 'TEXT', 0, None, 0)\n",
      "(20, 'defenceAggression', 'INTEGER', 0, None, 0)\n",
      "(21, 'defenceAggressionClass', 'TEXT', 0, None, 0)\n",
      "(22, 'defenceTeamWidth', 'INTEGER', 0, None, 0)\n",
      "(23, 'defenceTeamWidthClass', 'TEXT', 0, None, 0)\n",
      "(24, 'defenceDefenderLineClass', 'TEXT', 0, None, 0)\n"
     ]
    }
   ],
   "source": [
    "cur = conn.cursor()\n",
    "cur.execute('''SELECT * from pragma_table_info(\"Team_Attributes\")''' )\n",
    "rows = cur.fetchall()\n",
    "    \n",
    "for row in rows[:]:\n",
    "        print(row)"
   ]
  },
  {
   "cell_type": "markdown",
   "metadata": {},
   "source": [
    "## Question 1: Which team scored the most points when playing at home?"
   ]
  },
  {
   "cell_type": "code",
   "execution_count": 69,
   "metadata": {},
   "outputs": [
    {
     "name": "stdout",
     "output_type": "stream",
     "text": [
      "(505, 8633, 'Real Madrid CF')\n"
     ]
    }
   ],
   "source": [
    "cur = conn.cursor()\n",
    "cur.execute(\"SELECT sum(a.home_team_goal) as sum_goals, b.team_api_id, b.team_long_name FROM match a, team b WHERE a.home_team_api_id = b.team_api_id group by b.team_api_id order by sum_goals desc limit 1\" )\n",
    "rows = cur.fetchall()\n",
    "    \n",
    "for row in rows[:]:\n",
    "        print(row)\n"
   ]
  },
  {
   "cell_type": "markdown",
   "metadata": {},
   "source": [
    "## Question 2: Did this team also score the most points when playing away?"
   ]
  },
  {
   "cell_type": "code",
   "execution_count": 70,
   "metadata": {},
   "outputs": [
    {
     "name": "stdout",
     "output_type": "stream",
     "text": [
      "(354, 8634, 'FC Barcelona')\n"
     ]
    }
   ],
   "source": [
    "cur = conn.cursor()\n",
    "\n",
    "cur.execute(\"SELECT sum(a.away_team_goal) as sum_goals, b.team_api_id, b.team_long_name FROM match a, team b WHERE a.away_team_api_id = b.team_api_id group by b.team_api_id order by sum_goals desc limit 1\" )\n",
    "rows = cur.fetchall()\n",
    "    \n",
    "for row in rows[:]:\n",
    "        print(row)"
   ]
  },
  {
   "cell_type": "markdown",
   "metadata": {},
   "source": [
    "## Question 3: How many matches resulted in a tie?"
   ]
  },
  {
   "cell_type": "code",
   "execution_count": 71,
   "metadata": {},
   "outputs": [
    {
     "name": "stdout",
     "output_type": "stream",
     "text": [
      "(6596,)\n"
     ]
    }
   ],
   "source": [
    "cur = conn.cursor()\n",
    "cur.execute(\"SELECT count(match_api_id)  FROM match where home_team_goal = away_team_goal\" )\n",
    "rows = cur.fetchall()\n",
    "    \n",
    "for row in rows[:]:\n",
    "        print(row)"
   ]
  },
  {
   "cell_type": "markdown",
   "metadata": {},
   "source": [
    "## Question 4: How many players have Smith for their last name? How many have 'smith' anywhere in their name?"
   ]
  },
  {
   "cell_type": "code",
   "execution_count": 72,
   "metadata": {},
   "outputs": [
    {
     "name": "stdout",
     "output_type": "stream",
     "text": [
      "(15,)\n"
     ]
    }
   ],
   "source": [
    "cur = conn.cursor()\n",
    "cur.execute(\"SELECT COUNT(player_name) FROM Player where player_name LIKE '% smith' \" )\n",
    "rows = cur.fetchall()\n",
    "    \n",
    "for row in rows[:]:\n",
    "        print(row)\n",
    "\n"
   ]
  },
  {
   "cell_type": "code",
   "execution_count": 73,
   "metadata": {},
   "outputs": [
    {
     "name": "stdout",
     "output_type": "stream",
     "text": [
      "(18,)\n"
     ]
    }
   ],
   "source": [
    "cur = conn.cursor()\n",
    "cur.execute(\"SELECT COUNT(player_name) FROM Player where player_name LIKE '%smith%' \" )\n",
    "rows = cur.fetchall()\n",
    "    \n",
    "for row in rows[:]:\n",
    "        print(row)"
   ]
  },
  {
   "cell_type": "markdown",
   "metadata": {},
   "source": [
    "## Question 5: What was the median tie score? Use the value determined in the previous question for the number of tie games. Hint: PostgreSQL does not have a median function. Instead, think about the steps required to calculate a median and use the WITH command to store stepwise results as a table and then operate on these results."
   ]
  },
  {
   "cell_type": "code",
   "execution_count": 91,
   "metadata": {},
   "outputs": [
    {
     "name": "stdout",
     "output_type": "stream",
     "text": [
      "(1,)\n"
     ]
    }
   ],
   "source": [
    "cur = conn.cursor()\n",
    "#cur.execute(\"WITH goal_list AS (SELECT home_team_goal  FROM match where home_team_goal = away_team_goal order \\\n",
    "#             by home_team_goal desc)  select home_team_goal from goal_list limit 1 offset 6596/2\" )\n",
    "\n",
    "cur.execute(\"WITH goal_list AS (SELECT home_team_goal  FROM match where home_team_goal = away_team_goal order \\\n",
    "             by home_team_goal desc)  select home_team_goal from goal_list limit 1 offset (select count(*) from goal_list)/2\" )\n",
    "\n",
    "\n",
    "rows = cur.fetchall()\n",
    "    \n",
    "for row in rows[:20]:\n",
    "        print(row)\n",
    "        \n",
    "    "
   ]
  },
  {
   "cell_type": "markdown",
   "metadata": {},
   "source": [
    "## Question 6: What percentage of players prefer their left or right foot? Hint: Calculate either the right or left foot, whichever is easier based on how you setup the problem."
   ]
  },
  {
   "cell_type": "code",
   "execution_count": 101,
   "metadata": {},
   "outputs": [
    {
     "name": "stdout",
     "output_type": "stream",
     "text": [
      "(81.18444846292948,)\n"
     ]
    }
   ],
   "source": [
    "cur = conn.cursor()\n",
    "\n",
    "\n",
    "cur.execute(\"SELECT (COUNT(DISTINCT(player_api_id)) * 100.0 / (SELECT COUNT(DISTINCT(player_api_id)) FROM Player_Attributes)) \\\n",
    " FROM Player_Attributes WHERE preferred_foot LIKE '%right%' \" )\n",
    "\n",
    "\n",
    "rows = cur.fetchall()\n",
    "    \n",
    "for row in rows[:20]:\n",
    "        print(row)\n",
    "        \n",
    "#SELECT (COUNT(DISTINCT(player_api_id)) * 100.0 / (SELECT COUNT(DISTINCT(player_api_id)) FROM Player_Attributes)) as percentage\n",
    "#FROM Player_Attributes\n",
    "#WHERE preferred_foot LIKE '%left%'"
   ]
  },
  {
   "cell_type": "code",
   "execution_count": null,
   "metadata": {},
   "outputs": [],
   "source": []
  }
 ],
 "metadata": {
  "kernelspec": {
   "display_name": "Python 3",
   "language": "python",
   "name": "python3"
  },
  "language_info": {
   "codemirror_mode": {
    "name": "ipython",
    "version": 3
   },
   "file_extension": ".py",
   "mimetype": "text/x-python",
   "name": "python",
   "nbconvert_exporter": "python",
   "pygments_lexer": "ipython3",
   "version": "3.7.0"
  }
 },
 "nbformat": 4,
 "nbformat_minor": 2
}
