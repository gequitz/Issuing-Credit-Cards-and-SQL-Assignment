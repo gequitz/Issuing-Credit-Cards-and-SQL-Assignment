{
 "cells": [
  {
   "cell_type": "markdown",
   "metadata": {},
   "source": [
    "# Part 1: W3Schools SQL Lab"
   ]
  },
  {
   "cell_type": "markdown",
   "metadata": {},
   "source": [
    "### This challenge uses [W3Schools SQL playground](http://www.w3schools.com/sql/trysql.asp?filename=trysql_select_all). Question prompts and solutions are in Markdown below."
   ]
  },
  {
   "cell_type": "markdown",
   "metadata": {},
   "source": [
    "## 1. Which customers are from the UK?"
   ]
  },
  {
   "cell_type": "markdown",
   "metadata": {},
   "source": [
    "SELECT * FROM Customers WHERE Country = 'UK';"
   ]
  },
  {
   "cell_type": "markdown",
   "metadata": {},
   "source": [
    "## 2. What is the name of the customer who has the most orders?"
   ]
  },
  {
   "cell_type": "markdown",
   "metadata": {},
   "source": [
    "SELECT CustomerID, COUNT(*)\n",
    "FROM Orders\n",
    "GROUP BY CustomerID\n",
    "ORDER BY COUNT(*) DESC limit 1;"
   ]
  },
  {
   "cell_type": "markdown",
   "metadata": {},
   "source": [
    "## 3. Which supplier has the highest average product price?"
   ]
  },
  {
   "cell_type": "markdown",
   "metadata": {},
   "source": [
    "SELECT SupplierID\n",
    "FROM Products\n",
    "GROUP BY SupplierID\n",
    "ORDER BY avg(Price) Desc limit 1;"
   ]
  },
  {
   "cell_type": "markdown",
   "metadata": {},
   "source": [
    "## 4. How many different countries are all the customers from? (*Hint:* consider [DISTINCT](http://www.w3schools.com/sql/sql_distinct.asp).)"
   ]
  },
  {
   "cell_type": "markdown",
   "metadata": {},
   "source": [
    "SELECT COUNT(DISTINCT Country)\n",
    "FROM Customers;"
   ]
  },
  {
   "cell_type": "markdown",
   "metadata": {},
   "source": [
    "## 5. What category appears in the most orders?"
   ]
  },
  {
   "cell_type": "markdown",
   "metadata": {},
   "source": [
    "SELECT a.CategoryName from Categories a, Products b, OrderDetails c\n",
    "WHERE a.CategoryID = b.CategoryID\n",
    "AND b.ProductID = c.ProductID group by a.CategoryName order by count(a.CategoryName) desc limit 1 ;"
   ]
  },
  {
   "cell_type": "markdown",
   "metadata": {},
   "source": [
    "## 6. What was the total cost for each order?"
   ]
  },
  {
   "cell_type": "markdown",
   "metadata": {},
   "source": [
    "SELECT a.OrderID, sum(a.Quantity * b.Price)\n",
    "FROM OrderDetails a, Products b\n",
    "WHERE a.ProductID = b.ProductID\n",
    "GROUP BY OrderID;"
   ]
  },
  {
   "cell_type": "markdown",
   "metadata": {},
   "source": [
    "## 7. Which employee made the most sales (by total price)?"
   ]
  },
  {
   "cell_type": "markdown",
   "metadata": {},
   "source": [
    "SELECT  a.EmployeeID, a.LastName, a.FirstName\n",
    "FROM Employees a, Orders b, Products c, OrderDetails d\n",
    "WHERE a.EmployeeID = b.EmployeeID\n",
    "and d.OrderID = b.OrderID\n",
    "and c.ProductID = d.ProductID\n",
    "GROUP BY a.EmployeeID\n",
    "ORDER BY (c.Price*d.Quantity) desc limit 1;"
   ]
  },
  {
   "cell_type": "markdown",
   "metadata": {},
   "source": [
    "## 8. Which employees have BS degrees? (*Hint:* look at the [LIKE](http://www.w3schools.com/sql/sql_like.asp) operator.)"
   ]
  },
  {
   "cell_type": "markdown",
   "metadata": {},
   "source": [
    "SELECT EmployeeID, LastName, FirstName\n",
    "FROM Employees\n",
    "WHERE Notes like '% BS %' ;"
   ]
  },
  {
   "cell_type": "markdown",
   "metadata": {},
   "source": [
    "## 9. Which supplier of three or more products has the highest average product price? (*Hint:* look at the [HAVING](http://www.w3schools.com/sql/sql_having.asp) operator.)"
   ]
  },
  {
   "cell_type": "markdown",
   "metadata": {},
   "source": [
    "SELECT a.SupplierID, a.ContactName\n",
    "FROM Suppliers a, Products b\n",
    "WHERE a.SupplierID = b.SupplierID\n",
    "GROUP BY a.SupplierID\n",
    "HAVING COUNT(b.ProductID) > 2\n",
    "ORDER BY avg(b.Price) desc limit 1;"
   ]
  },
  {
   "cell_type": "code",
   "execution_count": null,
   "metadata": {},
   "outputs": [],
   "source": []
  }
 ],
 "metadata": {
  "kernelspec": {
   "display_name": "Python 3",
   "language": "python",
   "name": "python3"
  },
  "language_info": {
   "codemirror_mode": {
    "name": "ipython",
    "version": 3
   },
   "file_extension": ".py",
   "mimetype": "text/x-python",
   "name": "python",
   "nbconvert_exporter": "python",
   "pygments_lexer": "ipython3",
   "version": "3.7.0"
  }
 },
 "nbformat": 4,
 "nbformat_minor": 2
}
